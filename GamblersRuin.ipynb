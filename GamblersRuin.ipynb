{
 "cells": [
  {
   "cell_type": "code",
   "execution_count": 18,
   "metadata": {},
   "outputs": [],
   "source": [
    "import random"
   ]
  },
  {
   "cell_type": "code",
   "execution_count": 76,
   "metadata": {},
   "outputs": [],
   "source": [
    "peter_money = 2\n",
    "peter_prob = 2/3\n",
    "joe_money = 10\n",
    "number_of_simulations = 1000000\n",
    "joe_prob = 1 - peter_prob"
   ]
  },
  {
   "cell_type": "code",
   "execution_count": 77,
   "metadata": {},
   "outputs": [],
   "source": [
    "def play_game(player1_money, player2_money, p1):\n",
    "    \"\"\"\n",
    "    Returns True if player1 wins, False if player2 wins\n",
    "    \"\"\"\n",
    "    while player1_money > 0 and player2_money > 0:\n",
    "        if random.random() < p1:\n",
    "            player1_money += 1\n",
    "            player2_money -= 1\n",
    "        else:\n",
    "            player2_money += 1\n",
    "            player1_money -= 1\n",
    "    return player1_money > 0 "
   ]
  },
  {
   "cell_type": "code",
   "execution_count": 78,
   "metadata": {},
   "outputs": [
    {
     "name": "stdout",
     "output_type": "stream",
     "text": [
      "0.250818\n"
     ]
    }
   ],
   "source": [
    "joe_wins = 0\n",
    "for i in range(number_of_simulations):\n",
    "    joe_wins += play_game(joe_money, peter_money, joe_prob)\n",
    "\n",
    "print(joe_wins / number_of_simulations)"
   ]
  },
  {
   "cell_type": "code",
   "execution_count": null,
   "metadata": {},
   "outputs": [],
   "source": []
  }
 ],
 "metadata": {
  "kernelspec": {
   "display_name": "Python 3",
   "language": "python",
   "name": "python3"
  },
  "language_info": {
   "codemirror_mode": {
    "name": "ipython",
    "version": 3
   },
   "file_extension": ".py",
   "mimetype": "text/x-python",
   "name": "python",
   "nbconvert_exporter": "python",
   "pygments_lexer": "ipython3",
   "version": "3.6.9"
  }
 },
 "nbformat": 4,
 "nbformat_minor": 2
}
